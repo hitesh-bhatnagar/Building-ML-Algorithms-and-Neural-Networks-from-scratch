{
 "cells": [
  {
   "cell_type": "markdown",
   "id": "5b286597",
   "metadata": {},
   "source": [
    "### Ensemble learning \n",
    "#### Bagging : Random Forest\n",
    "#### Boosting : AdaBoost, Gradient Boosting, XGBoost, LightGBM, CatBoost\n",
    "#### Stacking : Combining models"
   ]
  },
  {
   "cell_type": "code",
   "execution_count": null,
   "id": "3232a7b7",
   "metadata": {},
   "outputs": [],
   "source": []
  }
 ],
 "metadata": {
  "kernelspec": {
   "display_name": ".vir_env (3.11.1)",
   "language": "python",
   "name": "python3"
  },
  "language_info": {
   "name": "python",
   "version": "3.11.1"
  }
 },
 "nbformat": 4,
 "nbformat_minor": 5
}
